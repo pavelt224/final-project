{
 "cells": [
  {
   "cell_type": "markdown",
   "id": "9bce06ae-be23-4aba-aab8-f22d9377932f",
   "metadata": {},
   "source": [
    "# <b>1<span style='color:#0386f7de'>|</span> Importing libraries</b>"
   ]
  },
  {
   "cell_type": "code",
   "execution_count": 1,
   "id": "4a584ea2-7ac7-4da4-a486-1daefe95658b",
   "metadata": {},
   "outputs": [],
   "source": [
    "import pandas as pd\n",
    "import seaborn as sns\n",
    "import matplotlib.pyplot as plt"
   ]
  },
  {
   "cell_type": "code",
   "execution_count": 2,
   "id": "58cf5f4e-ebd1-4c3c-affb-20952e08b6a1",
   "metadata": {},
   "outputs": [],
   "source": [
    "from sklearn.linear_model import LogisticRegression \n",
    "from sklearn.preprocessing import OneHotEncoder \n",
    "from sklearn import metrics"
   ]
  },
  {
   "cell_type": "markdown",
   "id": "3b0047fc",
   "metadata": {},
   "source": [
    "# <b>2<span style='color:#0386f7de'>|</span> Exploratory Data </b>\n"
   ]
  },
  {
   "cell_type": "code",
   "execution_count": 3,
   "id": "43049a9c",
   "metadata": {
    "scrolled": true
   },
   "outputs": [
    {
     "data": {
      "text/html": [
       "<div>\n",
       "<style scoped>\n",
       "    .dataframe tbody tr th:only-of-type {\n",
       "        vertical-align: middle;\n",
       "    }\n",
       "\n",
       "    .dataframe tbody tr th {\n",
       "        vertical-align: top;\n",
       "    }\n",
       "\n",
       "    .dataframe thead th {\n",
       "        text-align: right;\n",
       "    }\n",
       "</style>\n",
       "<table border=\"1\" class=\"dataframe\">\n",
       "  <thead>\n",
       "    <tr style=\"text-align: right;\">\n",
       "      <th></th>\n",
       "      <th>HeartDisease</th>\n",
       "      <th>BMI</th>\n",
       "      <th>Smoking</th>\n",
       "      <th>AlcoholDrinking</th>\n",
       "      <th>Stroke</th>\n",
       "      <th>PhysicalHealth</th>\n",
       "      <th>MentalHealth</th>\n",
       "      <th>DiffWalking</th>\n",
       "      <th>Sex</th>\n",
       "      <th>AgeCategory</th>\n",
       "      <th>Race</th>\n",
       "      <th>Diabetic</th>\n",
       "      <th>PhysicalActivity</th>\n",
       "      <th>GenHealth</th>\n",
       "      <th>SleepTime</th>\n",
       "      <th>Asthma</th>\n",
       "      <th>KidneyDisease</th>\n",
       "      <th>SkinCancer</th>\n",
       "    </tr>\n",
       "  </thead>\n",
       "  <tbody>\n",
       "    <tr>\n",
       "      <th>0</th>\n",
       "      <td>No</td>\n",
       "      <td>16.60</td>\n",
       "      <td>Yes</td>\n",
       "      <td>No</td>\n",
       "      <td>No</td>\n",
       "      <td>3.0</td>\n",
       "      <td>30.0</td>\n",
       "      <td>No</td>\n",
       "      <td>Female</td>\n",
       "      <td>55-59</td>\n",
       "      <td>White</td>\n",
       "      <td>Yes</td>\n",
       "      <td>Yes</td>\n",
       "      <td>Very good</td>\n",
       "      <td>5.0</td>\n",
       "      <td>Yes</td>\n",
       "      <td>No</td>\n",
       "      <td>Yes</td>\n",
       "    </tr>\n",
       "    <tr>\n",
       "      <th>1</th>\n",
       "      <td>No</td>\n",
       "      <td>20.34</td>\n",
       "      <td>No</td>\n",
       "      <td>No</td>\n",
       "      <td>Yes</td>\n",
       "      <td>0.0</td>\n",
       "      <td>0.0</td>\n",
       "      <td>No</td>\n",
       "      <td>Female</td>\n",
       "      <td>80 or older</td>\n",
       "      <td>White</td>\n",
       "      <td>No</td>\n",
       "      <td>Yes</td>\n",
       "      <td>Very good</td>\n",
       "      <td>7.0</td>\n",
       "      <td>No</td>\n",
       "      <td>No</td>\n",
       "      <td>No</td>\n",
       "    </tr>\n",
       "    <tr>\n",
       "      <th>2</th>\n",
       "      <td>No</td>\n",
       "      <td>26.58</td>\n",
       "      <td>Yes</td>\n",
       "      <td>No</td>\n",
       "      <td>No</td>\n",
       "      <td>20.0</td>\n",
       "      <td>30.0</td>\n",
       "      <td>No</td>\n",
       "      <td>Male</td>\n",
       "      <td>65-69</td>\n",
       "      <td>White</td>\n",
       "      <td>Yes</td>\n",
       "      <td>Yes</td>\n",
       "      <td>Fair</td>\n",
       "      <td>8.0</td>\n",
       "      <td>Yes</td>\n",
       "      <td>No</td>\n",
       "      <td>No</td>\n",
       "    </tr>\n",
       "    <tr>\n",
       "      <th>3</th>\n",
       "      <td>No</td>\n",
       "      <td>24.21</td>\n",
       "      <td>No</td>\n",
       "      <td>No</td>\n",
       "      <td>No</td>\n",
       "      <td>0.0</td>\n",
       "      <td>0.0</td>\n",
       "      <td>No</td>\n",
       "      <td>Female</td>\n",
       "      <td>75-79</td>\n",
       "      <td>White</td>\n",
       "      <td>No</td>\n",
       "      <td>No</td>\n",
       "      <td>Good</td>\n",
       "      <td>6.0</td>\n",
       "      <td>No</td>\n",
       "      <td>No</td>\n",
       "      <td>Yes</td>\n",
       "    </tr>\n",
       "    <tr>\n",
       "      <th>4</th>\n",
       "      <td>No</td>\n",
       "      <td>23.71</td>\n",
       "      <td>No</td>\n",
       "      <td>No</td>\n",
       "      <td>No</td>\n",
       "      <td>28.0</td>\n",
       "      <td>0.0</td>\n",
       "      <td>Yes</td>\n",
       "      <td>Female</td>\n",
       "      <td>40-44</td>\n",
       "      <td>White</td>\n",
       "      <td>No</td>\n",
       "      <td>Yes</td>\n",
       "      <td>Very good</td>\n",
       "      <td>8.0</td>\n",
       "      <td>No</td>\n",
       "      <td>No</td>\n",
       "      <td>No</td>\n",
       "    </tr>\n",
       "    <tr>\n",
       "      <th>...</th>\n",
       "      <td>...</td>\n",
       "      <td>...</td>\n",
       "      <td>...</td>\n",
       "      <td>...</td>\n",
       "      <td>...</td>\n",
       "      <td>...</td>\n",
       "      <td>...</td>\n",
       "      <td>...</td>\n",
       "      <td>...</td>\n",
       "      <td>...</td>\n",
       "      <td>...</td>\n",
       "      <td>...</td>\n",
       "      <td>...</td>\n",
       "      <td>...</td>\n",
       "      <td>...</td>\n",
       "      <td>...</td>\n",
       "      <td>...</td>\n",
       "      <td>...</td>\n",
       "    </tr>\n",
       "    <tr>\n",
       "      <th>319790</th>\n",
       "      <td>Yes</td>\n",
       "      <td>27.41</td>\n",
       "      <td>Yes</td>\n",
       "      <td>No</td>\n",
       "      <td>No</td>\n",
       "      <td>7.0</td>\n",
       "      <td>0.0</td>\n",
       "      <td>Yes</td>\n",
       "      <td>Male</td>\n",
       "      <td>60-64</td>\n",
       "      <td>Hispanic</td>\n",
       "      <td>Yes</td>\n",
       "      <td>No</td>\n",
       "      <td>Fair</td>\n",
       "      <td>6.0</td>\n",
       "      <td>Yes</td>\n",
       "      <td>No</td>\n",
       "      <td>No</td>\n",
       "    </tr>\n",
       "    <tr>\n",
       "      <th>319791</th>\n",
       "      <td>No</td>\n",
       "      <td>29.84</td>\n",
       "      <td>Yes</td>\n",
       "      <td>No</td>\n",
       "      <td>No</td>\n",
       "      <td>0.0</td>\n",
       "      <td>0.0</td>\n",
       "      <td>No</td>\n",
       "      <td>Male</td>\n",
       "      <td>35-39</td>\n",
       "      <td>Hispanic</td>\n",
       "      <td>No</td>\n",
       "      <td>Yes</td>\n",
       "      <td>Very good</td>\n",
       "      <td>5.0</td>\n",
       "      <td>Yes</td>\n",
       "      <td>No</td>\n",
       "      <td>No</td>\n",
       "    </tr>\n",
       "    <tr>\n",
       "      <th>319792</th>\n",
       "      <td>No</td>\n",
       "      <td>24.24</td>\n",
       "      <td>No</td>\n",
       "      <td>No</td>\n",
       "      <td>No</td>\n",
       "      <td>0.0</td>\n",
       "      <td>0.0</td>\n",
       "      <td>No</td>\n",
       "      <td>Female</td>\n",
       "      <td>45-49</td>\n",
       "      <td>Hispanic</td>\n",
       "      <td>No</td>\n",
       "      <td>Yes</td>\n",
       "      <td>Good</td>\n",
       "      <td>6.0</td>\n",
       "      <td>No</td>\n",
       "      <td>No</td>\n",
       "      <td>No</td>\n",
       "    </tr>\n",
       "    <tr>\n",
       "      <th>319793</th>\n",
       "      <td>No</td>\n",
       "      <td>32.81</td>\n",
       "      <td>No</td>\n",
       "      <td>No</td>\n",
       "      <td>No</td>\n",
       "      <td>0.0</td>\n",
       "      <td>0.0</td>\n",
       "      <td>No</td>\n",
       "      <td>Female</td>\n",
       "      <td>25-29</td>\n",
       "      <td>Hispanic</td>\n",
       "      <td>No</td>\n",
       "      <td>No</td>\n",
       "      <td>Good</td>\n",
       "      <td>12.0</td>\n",
       "      <td>No</td>\n",
       "      <td>No</td>\n",
       "      <td>No</td>\n",
       "    </tr>\n",
       "    <tr>\n",
       "      <th>319794</th>\n",
       "      <td>No</td>\n",
       "      <td>46.56</td>\n",
       "      <td>No</td>\n",
       "      <td>No</td>\n",
       "      <td>No</td>\n",
       "      <td>0.0</td>\n",
       "      <td>0.0</td>\n",
       "      <td>No</td>\n",
       "      <td>Female</td>\n",
       "      <td>80 or older</td>\n",
       "      <td>Hispanic</td>\n",
       "      <td>No</td>\n",
       "      <td>Yes</td>\n",
       "      <td>Good</td>\n",
       "      <td>8.0</td>\n",
       "      <td>No</td>\n",
       "      <td>No</td>\n",
       "      <td>No</td>\n",
       "    </tr>\n",
       "  </tbody>\n",
       "</table>\n",
       "<p>319795 rows × 18 columns</p>\n",
       "</div>"
      ],
      "text/plain": [
       "       HeartDisease    BMI Smoking AlcoholDrinking Stroke  PhysicalHealth  \\\n",
       "0                No  16.60     Yes              No     No             3.0   \n",
       "1                No  20.34      No              No    Yes             0.0   \n",
       "2                No  26.58     Yes              No     No            20.0   \n",
       "3                No  24.21      No              No     No             0.0   \n",
       "4                No  23.71      No              No     No            28.0   \n",
       "...             ...    ...     ...             ...    ...             ...   \n",
       "319790          Yes  27.41     Yes              No     No             7.0   \n",
       "319791           No  29.84     Yes              No     No             0.0   \n",
       "319792           No  24.24      No              No     No             0.0   \n",
       "319793           No  32.81      No              No     No             0.0   \n",
       "319794           No  46.56      No              No     No             0.0   \n",
       "\n",
       "        MentalHealth DiffWalking     Sex  AgeCategory      Race Diabetic  \\\n",
       "0               30.0          No  Female        55-59     White      Yes   \n",
       "1                0.0          No  Female  80 or older     White       No   \n",
       "2               30.0          No    Male        65-69     White      Yes   \n",
       "3                0.0          No  Female        75-79     White       No   \n",
       "4                0.0         Yes  Female        40-44     White       No   \n",
       "...              ...         ...     ...          ...       ...      ...   \n",
       "319790           0.0         Yes    Male        60-64  Hispanic      Yes   \n",
       "319791           0.0          No    Male        35-39  Hispanic       No   \n",
       "319792           0.0          No  Female        45-49  Hispanic       No   \n",
       "319793           0.0          No  Female        25-29  Hispanic       No   \n",
       "319794           0.0          No  Female  80 or older  Hispanic       No   \n",
       "\n",
       "       PhysicalActivity  GenHealth  SleepTime Asthma KidneyDisease SkinCancer  \n",
       "0                   Yes  Very good        5.0    Yes            No        Yes  \n",
       "1                   Yes  Very good        7.0     No            No         No  \n",
       "2                   Yes       Fair        8.0    Yes            No         No  \n",
       "3                    No       Good        6.0     No            No        Yes  \n",
       "4                   Yes  Very good        8.0     No            No         No  \n",
       "...                 ...        ...        ...    ...           ...        ...  \n",
       "319790               No       Fair        6.0    Yes            No         No  \n",
       "319791              Yes  Very good        5.0    Yes            No         No  \n",
       "319792              Yes       Good        6.0     No            No         No  \n",
       "319793               No       Good       12.0     No            No         No  \n",
       "319794              Yes       Good        8.0     No            No         No  \n",
       "\n",
       "[319795 rows x 18 columns]"
      ]
     },
     "execution_count": 3,
     "metadata": {},
     "output_type": "execute_result"
    }
   ],
   "source": [
    "#Loading CSV file \"Dataset\"\n",
    "heart_database = pd.read_csv(\"Resources/heart_2020_cleaned.csv\")\n",
    "heart_database"
   ]
  },
  {
   "cell_type": "markdown",
   "id": "0ae2e8b0-63e1-4eed-b899-204b526612e0",
   "metadata": {
    "tags": []
   },
   "source": [
    "# <b>3<span style='color:#0386f7de'>|</span> Explanation of the variables of the dataset </b> \n",
    "\n",
    "1. HeartDisease : Respondents that have ever reported having coronary heart disease (CHD) or myocardial infarction (MI).\n",
    "2. BMI : Body Mass Index (BMI).\n",
    "3. Smoking : Have you smoked at least 100 cigarettes in your entire life? ( The answer Yes or No ).\n",
    "4. AlcoholDrinking : Heavy drinkers (adult men having more than 14 drinks per week and adult women having more than 7 drinks per week\n",
    "5. Stroke : (Ever told) (you had) a stroke?\n",
    "6. PhysicalHealth : Now thinking about your physical health, which includes physical illness and injury, for how many days during the past 30 days was your physical health not good? (0-30 days).\n",
    "7. MentalHealth : Thinking about your mental health, for how many days during the past 30 days was your mental health not good? (0-30 days).\n",
    "8. DiffWalking : Do you have serious difficulty walking or climbing stairs?\n",
    "9. Sex : Are you male or female?\n",
    "10. AgeCategory: Fourteen-level age category.\n",
    "11. Race : Imputed race/ethnicity value.\n",
    "12. Diabetic : (Ever told) (you had) diabetes?\n",
    "13. PhysicalActivity : Adults who reported doing physical activity or exercise during the past 30 days other than their regular job.\n",
    "14. GenHealth : Would you say that in general your health is...\n",
    "15. SleepTime : On average, how many hours of sleep do you get in a 24-hour period?\n",
    "16. Asthma : (Ever told) (you had) asthma?\n",
    "17. KidneyDisease : Not including kidney stones, bladder infection or incontinence, were you ever told you had kidney disease?\n",
    "18. SkinCancer : (Ever told) (you had) skin cancer?\n"
   ]
  },
  {
   "cell_type": "markdown",
   "id": "3d7f5a9e-8de5-43fb-9da2-6f9a196bedc6",
   "metadata": {},
   "source": [
    "# <b>4<span style='color:#0386f7de'>|</span> Exploring and evaluating the variables of the dataset </b>\n"
   ]
  },
  {
   "cell_type": "code",
   "execution_count": 4,
   "id": "724d899e",
   "metadata": {},
   "outputs": [
    {
     "name": "stdout",
     "output_type": "stream",
     "text": [
      "<class 'pandas.core.frame.DataFrame'>\n",
      "RangeIndex: 319795 entries, 0 to 319794\n",
      "Data columns (total 18 columns):\n",
      " #   Column            Non-Null Count   Dtype  \n",
      "---  ------            --------------   -----  \n",
      " 0   HeartDisease      319795 non-null  object \n",
      " 1   BMI               319795 non-null  float64\n",
      " 2   Smoking           319795 non-null  object \n",
      " 3   AlcoholDrinking   319795 non-null  object \n",
      " 4   Stroke            319795 non-null  object \n",
      " 5   PhysicalHealth    319795 non-null  float64\n",
      " 6   MentalHealth      319795 non-null  float64\n",
      " 7   DiffWalking       319795 non-null  object \n",
      " 8   Sex               319795 non-null  object \n",
      " 9   AgeCategory       319795 non-null  object \n",
      " 10  Race              319795 non-null  object \n",
      " 11  Diabetic          319795 non-null  object \n",
      " 12  PhysicalActivity  319795 non-null  object \n",
      " 13  GenHealth         319795 non-null  object \n",
      " 14  SleepTime         319795 non-null  float64\n",
      " 15  Asthma            319795 non-null  object \n",
      " 16  KidneyDisease     319795 non-null  object \n",
      " 17  SkinCancer        319795 non-null  object \n",
      "dtypes: float64(4), object(14)\n",
      "memory usage: 43.9+ MB\n"
     ]
    }
   ],
   "source": [
    "# Explore Data types\n",
    "heart_database.info()"
   ]
  },
  {
   "cell_type": "markdown",
   "id": "f8d743a3-b28e-422d-9f96-be80a3ad4fef",
   "metadata": {},
   "source": [
    "We have roughly 319795 records with 18 columns, according to the result. There are no null values, and there are 14 numeric and four categorical features. We can convert the string properties that only have two unique values, but first let's make sure there aren't any aberrant values."
   ]
  },
  {
   "cell_type": "code",
   "execution_count": 5,
   "id": "d726b976",
   "metadata": {},
   "outputs": [
    {
     "name": "stdout",
     "output_type": "stream",
     "text": [
      "(319795, 18)\n"
     ]
    }
   ],
   "source": [
    "# Exploring data sample size\n",
    "print(heart_database.shape)"
   ]
  },
  {
   "cell_type": "code",
   "execution_count": 6,
   "id": "38aab481",
   "metadata": {
    "scrolled": true
   },
   "outputs": [
    {
     "data": {
      "text/plain": [
       "No     292422\n",
       "Yes     27373\n",
       "Name: HeartDisease, dtype: int64"
      ]
     },
     "execution_count": 6,
     "metadata": {},
     "output_type": "execute_result"
    }
   ],
   "source": [
    "# Review number of Positive heart disease cases\n",
    "heart_database['HeartDisease'].value_counts()"
   ]
  },
  {
   "cell_type": "code",
   "execution_count": 9,
   "id": "d07cdfaf",
   "metadata": {},
   "outputs": [
    {
     "data": {
      "text/plain": [
       "HeartDisease           2\n",
       "BMI                 3604\n",
       "Smoking                2\n",
       "AlcoholDrinking        2\n",
       "Stroke                 2\n",
       "PhysicalHealth        31\n",
       "MentalHealth          31\n",
       "DiffWalking            2\n",
       "Sex                    2\n",
       "AgeCategory           13\n",
       "Race                   6\n",
       "Diabetic               4\n",
       "PhysicalActivity       2\n",
       "GenHealth              5\n",
       "SleepTime             24\n",
       "Asthma                 2\n",
       "KidneyDisease          2\n",
       "SkinCancer             2\n",
       "dtype: int64"
      ]
     },
     "execution_count": 9,
     "metadata": {},
     "output_type": "execute_result"
    }
   ],
   "source": [
    "heart_database.nunique()"
   ]
  },
  {
   "cell_type": "code",
   "execution_count": 12,
   "id": "d72a2a0e-d1bf-478a-90ca-67518148ed0c",
   "metadata": {},
   "outputs": [],
   "source": [
    "# Replacing Bolean variables by 1 and 0\n",
    "heart_database =  heart_database[heart_database.columns].replace({'Yes':1, 'No':0, 'Male':1,'Female':0,'No, borderline diabetes':'0','Yes (during pregnancy)':'1' })\n",
    "heart_database['Diabetic'] = heart_database['Diabetic'].astype(int)"
   ]
  },
  {
   "cell_type": "markdown",
   "id": "45d0ec11-dd2a-4371-a25a-8a5f6175badd",
   "metadata": {},
   "source": [
    "We'll utilize OneHotEncoder in the preprocessing stage later for some variables that have more than two unique values."
   ]
  },
  {
   "cell_type": "markdown",
   "id": "da8795f7-a21d-44e9-8dad-67f830e1687c",
   "metadata": {},
   "source": [
    "# <b>5<span style='color:#0386f7de'>|</span>Analysis of Numeric Variables</b>"
   ]
  },
  {
   "cell_type": "code",
   "execution_count": 7,
   "id": "698b4327",
   "metadata": {},
   "outputs": [
    {
     "data": {
      "text/html": [
       "<style type=\"text/css\">\n",
       "#T_30fa6_row0_col0, #T_30fa6_row0_col1, #T_30fa6_row0_col2, #T_30fa6_row0_col3, #T_30fa6_row0_col4, #T_30fa6_row0_col5, #T_30fa6_row0_col6, #T_30fa6_row0_col7, #T_30fa6_row1_col0, #T_30fa6_row1_col1, #T_30fa6_row1_col2, #T_30fa6_row1_col3, #T_30fa6_row1_col4, #T_30fa6_row1_col5, #T_30fa6_row1_col6, #T_30fa6_row1_col7, #T_30fa6_row2_col0, #T_30fa6_row2_col1, #T_30fa6_row2_col2, #T_30fa6_row2_col3, #T_30fa6_row2_col4, #T_30fa6_row2_col5, #T_30fa6_row2_col6, #T_30fa6_row2_col7, #T_30fa6_row3_col0, #T_30fa6_row3_col1, #T_30fa6_row3_col2, #T_30fa6_row3_col3, #T_30fa6_row3_col4, #T_30fa6_row3_col5, #T_30fa6_row3_col6, #T_30fa6_row3_col7 {\n",
       "  background-color: grey;\n",
       "  color: white;\n",
       "  border-color: white;\n",
       "}\n",
       "</style>\n",
       "<table id=\"T_30fa6_\">\n",
       "  <thead>\n",
       "    <tr>\n",
       "      <th class=\"blank level0\" >&nbsp;</th>\n",
       "      <th class=\"col_heading level0 col0\" >count</th>\n",
       "      <th class=\"col_heading level0 col1\" >mean</th>\n",
       "      <th class=\"col_heading level0 col2\" >std</th>\n",
       "      <th class=\"col_heading level0 col3\" >min</th>\n",
       "      <th class=\"col_heading level0 col4\" >25%</th>\n",
       "      <th class=\"col_heading level0 col5\" >50%</th>\n",
       "      <th class=\"col_heading level0 col6\" >75%</th>\n",
       "      <th class=\"col_heading level0 col7\" >max</th>\n",
       "    </tr>\n",
       "  </thead>\n",
       "  <tbody>\n",
       "    <tr>\n",
       "      <th id=\"T_30fa6_level0_row0\" class=\"row_heading level0 row0\" >BMI</th>\n",
       "      <td id=\"T_30fa6_row0_col0\" class=\"data row0 col0\" >319795.000000</td>\n",
       "      <td id=\"T_30fa6_row0_col1\" class=\"data row0 col1\" >28.325399</td>\n",
       "      <td id=\"T_30fa6_row0_col2\" class=\"data row0 col2\" >6.356100</td>\n",
       "      <td id=\"T_30fa6_row0_col3\" class=\"data row0 col3\" >12.020000</td>\n",
       "      <td id=\"T_30fa6_row0_col4\" class=\"data row0 col4\" >24.030000</td>\n",
       "      <td id=\"T_30fa6_row0_col5\" class=\"data row0 col5\" >27.340000</td>\n",
       "      <td id=\"T_30fa6_row0_col6\" class=\"data row0 col6\" >31.420000</td>\n",
       "      <td id=\"T_30fa6_row0_col7\" class=\"data row0 col7\" >94.850000</td>\n",
       "    </tr>\n",
       "    <tr>\n",
       "      <th id=\"T_30fa6_level0_row1\" class=\"row_heading level0 row1\" >PhysicalHealth</th>\n",
       "      <td id=\"T_30fa6_row1_col0\" class=\"data row1 col0\" >319795.000000</td>\n",
       "      <td id=\"T_30fa6_row1_col1\" class=\"data row1 col1\" >3.371710</td>\n",
       "      <td id=\"T_30fa6_row1_col2\" class=\"data row1 col2\" >7.950850</td>\n",
       "      <td id=\"T_30fa6_row1_col3\" class=\"data row1 col3\" >0.000000</td>\n",
       "      <td id=\"T_30fa6_row1_col4\" class=\"data row1 col4\" >0.000000</td>\n",
       "      <td id=\"T_30fa6_row1_col5\" class=\"data row1 col5\" >0.000000</td>\n",
       "      <td id=\"T_30fa6_row1_col6\" class=\"data row1 col6\" >2.000000</td>\n",
       "      <td id=\"T_30fa6_row1_col7\" class=\"data row1 col7\" >30.000000</td>\n",
       "    </tr>\n",
       "    <tr>\n",
       "      <th id=\"T_30fa6_level0_row2\" class=\"row_heading level0 row2\" >MentalHealth</th>\n",
       "      <td id=\"T_30fa6_row2_col0\" class=\"data row2 col0\" >319795.000000</td>\n",
       "      <td id=\"T_30fa6_row2_col1\" class=\"data row2 col1\" >3.898366</td>\n",
       "      <td id=\"T_30fa6_row2_col2\" class=\"data row2 col2\" >7.955235</td>\n",
       "      <td id=\"T_30fa6_row2_col3\" class=\"data row2 col3\" >0.000000</td>\n",
       "      <td id=\"T_30fa6_row2_col4\" class=\"data row2 col4\" >0.000000</td>\n",
       "      <td id=\"T_30fa6_row2_col5\" class=\"data row2 col5\" >0.000000</td>\n",
       "      <td id=\"T_30fa6_row2_col6\" class=\"data row2 col6\" >3.000000</td>\n",
       "      <td id=\"T_30fa6_row2_col7\" class=\"data row2 col7\" >30.000000</td>\n",
       "    </tr>\n",
       "    <tr>\n",
       "      <th id=\"T_30fa6_level0_row3\" class=\"row_heading level0 row3\" >SleepTime</th>\n",
       "      <td id=\"T_30fa6_row3_col0\" class=\"data row3 col0\" >319795.000000</td>\n",
       "      <td id=\"T_30fa6_row3_col1\" class=\"data row3 col1\" >7.097075</td>\n",
       "      <td id=\"T_30fa6_row3_col2\" class=\"data row3 col2\" >1.436007</td>\n",
       "      <td id=\"T_30fa6_row3_col3\" class=\"data row3 col3\" >1.000000</td>\n",
       "      <td id=\"T_30fa6_row3_col4\" class=\"data row3 col4\" >6.000000</td>\n",
       "      <td id=\"T_30fa6_row3_col5\" class=\"data row3 col5\" >7.000000</td>\n",
       "      <td id=\"T_30fa6_row3_col6\" class=\"data row3 col6\" >8.000000</td>\n",
       "      <td id=\"T_30fa6_row3_col7\" class=\"data row3 col7\" >24.000000</td>\n",
       "    </tr>\n",
       "  </tbody>\n",
       "</table>\n"
      ],
      "text/plain": [
       "<pandas.io.formats.style.Styler at 0x2734037e9c8>"
      ]
     },
     "execution_count": 7,
     "metadata": {},
     "output_type": "execute_result"
    }
   ],
   "source": [
    "heart_database.describe().T.style.set_properties(**{'background-color': 'grey','color': 'white','border-color': 'white'})"
   ]
  },
  {
   "cell_type": "markdown",
   "id": "4eabe6eb-7ce3-42a8-b9aa-e4cd0f24a6d7",
   "metadata": {},
   "source": [
    "# <b>6<span style='color:#0386f7de'>|</span>Exploratory AnalysisExplanation of the variables of the dataset</b>"
   ]
  },
  {
   "cell_type": "code",
   "execution_count": null,
   "id": "511441d6-4ff4-4bbc-bbd3-b9c2eaa32ab6",
   "metadata": {},
   "outputs": [],
   "source": [
    "# Analisis and comparing the different varaibles agains heart disease."
   ]
  },
  {
   "cell_type": "markdown",
   "id": "4f55e852-c3e4-4bbf-9c10-5efd86b5eed5",
   "metadata": {},
   "source": [
    "# <b>7<span style='color:#0386f7de'>|</span> Data Preprocessing</b>\n"
   ]
  },
  {
   "cell_type": "code",
   "execution_count": null,
   "id": "b88707d2-be14-436a-a231-709176dd82fb",
   "metadata": {},
   "outputs": [],
   "source": [
    "# Standarize and encode the data in order to be ready for building up the Training and testing data sets."
   ]
  },
  {
   "cell_type": "markdown",
   "id": "8d3c184a-6c3c-4a6f-9306-b6375038dab6",
   "metadata": {},
   "source": [
    "# <b>8<span style='color:#0386f7de'>|</span> Split Dataset for Training and Testing</b>"
   ]
  },
  {
   "cell_type": "code",
   "execution_count": null,
   "id": "0549d728-dc64-4545-8fe0-bdb907406d62",
   "metadata": {},
   "outputs": [],
   "source": [
    "# Split the dataset in training and testing to perform then Maching learning process."
   ]
  },
  {
   "cell_type": "markdown",
   "id": "594b18f8-93fc-4320-8604-f483c6b89c81",
   "metadata": {},
   "source": [
    "# <b>9<span style='color:#0386f7de'>|</span> Modelling</b>"
   ]
  },
  {
   "cell_type": "code",
   "execution_count": null,
   "id": "90b07fd8-a337-4cc0-80b5-08ed55d0cadf",
   "metadata": {},
   "outputs": [],
   "source": [
    "# We are going to perform a Classifier Analysis and a Tree decission Model to evaluate the best model to predict the heart dissiesa variable."
   ]
  },
  {
   "cell_type": "markdown",
   "id": "df98b610-8e9e-46f3-93ef-d47213656fd6",
   "metadata": {},
   "source": [
    "# <b>10<span style='color:#0386f7de'>|</span> Modelling Comparison and Conclusions</b>"
   ]
  },
  {
   "cell_type": "code",
   "execution_count": null,
   "id": "a9ec3101-4a1c-423e-837d-2ff0a69c4576",
   "metadata": {},
   "outputs": [],
   "source": [
    "# We are going to compare the model built in 9 to reach the conclusions. "
   ]
  },
  {
   "cell_type": "code",
   "execution_count": null,
   "id": "c72dba6c-4633-4e5c-9292-c694c13b0084",
   "metadata": {},
   "outputs": [],
   "source": []
  }
 ],
 "metadata": {
  "kernelspec": {
   "display_name": "mlenv",
   "language": "python",
   "name": "mlenv"
  },
  "language_info": {
   "codemirror_mode": {
    "name": "ipython",
    "version": 3
   },
   "file_extension": ".py",
   "mimetype": "text/x-python",
   "name": "python",
   "nbconvert_exporter": "python",
   "pygments_lexer": "ipython3",
   "version": "3.7.11"
  }
 },
 "nbformat": 4,
 "nbformat_minor": 5
}
